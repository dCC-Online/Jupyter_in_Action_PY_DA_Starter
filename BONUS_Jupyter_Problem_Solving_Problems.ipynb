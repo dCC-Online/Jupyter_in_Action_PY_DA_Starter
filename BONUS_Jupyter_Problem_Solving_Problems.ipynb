{
 "cells": [
  {
   "cell_type": "markdown",
   "metadata": {},
   "source": [
    "## Bonus Jupiter Notebook Practice\n",
    "##### Below will be a series of questions, followed by an empty Python and Markdown block.\n",
    "* Use the Python code block to write your answers to each question.\n",
    "    * Once completed, select the play button to the left of the code block to execute your solution.\n",
    "    * The output will display below the code block.  Be sure to test and debug as you go to ensure you get the desired output for each question!\n",
    "* Use the markdown block below each question to describe your solution steps and/or problem solving process\n",
    "    * Use `monospace font` for any variable or function names\n",
    "    * Use **bold** or *italicized* text to add emphasis to a word or phrase\n",
    "    * You can also annotate your code within the Python blocks, using comments!"
   ]
  },
  {
   "cell_type": "markdown",
   "metadata": {},
   "source": [
    "## 1. Write a function that takes in a list of numbers\n",
    "✅ Your function should create a new dictionary, with two keys<br>\n",
    "    ✅ **The \"Odd\" key should hold a list of all odd values**<br>\n",
    "    ✅ **The \"Even\" key should hold a list of all even values**<br>\n",
    "✅ The function should return this new dictionary<br>\n",
    "✅ Print the resulting dictionary to the terminal.\n"
   ]
  },
  {
   "cell_type": "markdown",
   "metadata": {},
   "source": [
    "##### Problem 1 Solution Steps:\n",
    "*\n",
    "*\n",
    "*"
   ]
  },
  {
   "cell_type": "code",
   "execution_count": null,
   "metadata": {},
   "outputs": [],
   "source": [
    "# Problem 1 Solution\n",
    "def odd_even_dictionary(list_of_integers):\n",
    "    pass"
   ]
  },
  {
   "cell_type": "markdown",
   "metadata": {},
   "source": [
    "## 2. Write a function that takes in a dictionary\n",
    "✅ All of the **VALUES** within this dictionary should be **INTEGERS**<br>\n",
    "✅ This function should calculate the **total sum** of all dictionary values<br>\n",
    "✅ Then, return the total sum, and print it to the console<br>"
   ]
  },
  {
   "cell_type": "markdown",
   "metadata": {},
   "source": [
    "##### Problem 2 Solution Steps:\n",
    "*\n",
    "*\n",
    "*"
   ]
  },
  {
   "cell_type": "code",
   "execution_count": null,
   "metadata": {},
   "outputs": [],
   "source": [
    "# Problem 2 Solution\n",
    "def dictionary_sum_calculator(integer_dictionary):\n",
    "    pass"
   ]
  },
  {
   "cell_type": "markdown",
   "metadata": {},
   "source": [
    "## 3. Write a function that takes in a list of integers\n",
    "✅ This function should create a **NEW** list of all numbers that appear multiple times in the list<br>\n",
    "✅ Then, return the list of duplicates, and print it to the console<br>\n",
    "    * **HINT: the `.count()` function will be helpful for this task!**"
   ]
  },
  {
   "cell_type": "markdown",
   "metadata": {},
   "source": [
    "##### Problem 3 Solution Steps:\n",
    "*\n",
    "*\n",
    "*"
   ]
  },
  {
   "cell_type": "code",
   "execution_count": null,
   "metadata": {},
   "outputs": [],
   "source": [
    "# Problem 3 Solution\n",
    "def list_duplicate_checker(list_to_check):\n",
    "    pass"
   ]
  },
  {
   "cell_type": "markdown",
   "metadata": {},
   "source": [
    "## 4. Write a function that takes in an **integer**\n",
    "✅ This function will print a pyramid of asterisks *, with the same number of rows as the passed-in value <br>\n",
    "✅ **Example:** If we pass in **3**, we would expect the following output:\n",
    "\n",
    "    ```\n",
    "      *\n",
    "      **\n",
    "      ***\n",
    "    ```"
   ]
  },
  {
   "cell_type": "markdown",
   "metadata": {},
   "source": [
    "##### Problem 4 Solution Steps:\n",
    "*\n",
    "*\n",
    "*"
   ]
  },
  {
   "cell_type": "code",
   "execution_count": null,
   "metadata": {},
   "outputs": [],
   "source": [
    "# Problem 4 Solution\n",
    "def pyramid_generator(number_of_rows):\n",
    "    pass"
   ]
  },
  {
   "cell_type": "markdown",
   "metadata": {},
   "source": [
    "## 5. Instead of using a parameter, write a void function that will print a pyramid of asterisks *, using **user input** to calculate the number of rows to print"
   ]
  },
  {
   "cell_type": "markdown",
   "metadata": {},
   "source": [
    "##### Problem 5 Solution Steps:\n",
    "*\n",
    "*\n",
    "*"
   ]
  },
  {
   "cell_type": "code",
   "execution_count": null,
   "metadata": {},
   "outputs": [],
   "source": [
    "# Problem 5 Solution\n",
    "def user_input_pyramid_generator():\n",
    "    pass"
   ]
  },
  {
   "cell_type": "markdown",
   "metadata": {},
   "source": [
    "## Bonus Markdown Challenges\n",
    "### Below will be a series of questions, followed by an empty Markdown block.\n",
    "1. Use the markdown block below each question to answer each question, with the desired styles applied\n",
    "* Double-click on **\"Bonus # Solution:\"** to open the markdown block editor and enter your answer\n",
    "* Select the **check mark** to the right of your code block to save and render your changes\n",
    "2. Refer to the Student Hub Markdown Cheatsheet as a resource for styling your markdown blocks!\n",
    "---"
   ]
  },
  {
   "cell_type": "markdown",
   "metadata": {},
   "source": [
    "### Bonus 1. In the markdown block below, create an **unordered list** of three values, with your top 3 favorite animals\n",
    "✅ Bold the first entry in the list<br>\n",
    "✅ Italicize the second entry in the list<br>\n",
    "✅ Bold *and* italicize the third entry in the list<br>"
   ]
  },
  {
   "cell_type": "markdown",
   "metadata": {},
   "source": [
    "##### Bonus 1 Solution:"
   ]
  },
  {
   "cell_type": "markdown",
   "metadata": {},
   "source": [
    "### Bonus 2. In the markdown block below, insert an image of your favorite superhero (use a URL of your image on the web)\n",
    "* Beneath the image, in **bold** text, include the Name and Superpower of your superhero"
   ]
  },
  {
   "cell_type": "markdown",
   "metadata": {},
   "source": [
    "##### Bonus 2 Solution:"
   ]
  },
  {
   "cell_type": "markdown",
   "metadata": {},
   "source": [
    "### Bonus 3. In the markdown block below, include a **bolded** link to your GitHub profile"
   ]
  },
  {
   "cell_type": "markdown",
   "metadata": {},
   "source": [
    "##### Bonus 3 Solution:"
   ]
  },
  {
   "cell_type": "markdown",
   "metadata": {},
   "source": [
    "### Bonus 4. In the markdown block below, create an **ordered list** of your top three favorite colors\n",
    "✅ Using markdown, change each item in the list to the appropriate text color!"
   ]
  },
  {
   "cell_type": "markdown",
   "metadata": {},
   "source": [
    "##### Bonus 4 Solution:"
   ]
  }
 ],
 "metadata": {
  "kernelspec": {
   "display_name": "Python 3.10.5 64-bit",
   "language": "python",
   "name": "python3"
  },
  "language_info": {
   "name": "python",
   "version": "3.10.5"
  },
  "orig_nbformat": 4,
  "vscode": {
   "interpreter": {
    "hash": "991b4f12e3cd7e62d84ec965b56412c4354ac1fe6297d96f50a80e713193dd77"
   }
  }
 },
 "nbformat": 4,
 "nbformat_minor": 2
}
