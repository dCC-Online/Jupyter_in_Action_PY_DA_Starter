{
 "cells": [
  {
   "cell_type": "markdown",
   "metadata": {},
   "source": [
    "## Lab: Introduction to Jupiter Notebooks\n",
    "\n",
    "### Below will be a series of questions, followed by an empty Markdown and Python block.\n",
    "1. Use the markdown block below each question to describe your solution steps and/or problem solving process\n",
    "    * Use `monospace font` for any variable or function names\n",
    "    * Use **bold** or *italicized* text to add emphasis to a word or phrase\n",
    "    * You can also annotate your code within the Python blocks, using code comments!\n",
    "2. Use the Python code block to write your answers to each question.\n",
    "    * Once completed, select the play button to the left of the code block to execute your solution.\n",
    "    * The output will display below the code block.  Be sure to test and debug as you go to ensure you get the desired output for each question!\n",
    "3. If there are subtasks listed for a problem, you may use the same code block to complete all subtasks\n",
    "---"
   ]
  },
  {
   "cell_type": "markdown",
   "metadata": {},
   "source": [
    "## Example Question: Print the phrase \"Hello World\" to the console.\n"
   ]
  },
  {
   "cell_type": "markdown",
   "metadata": {},
   "source": [
    "##### Example Solution Steps:\n",
    "* Use the `print()` function to print a string to the terminal\n",
    "* Pass the string \"Hello World\" into `print()`\n",
    "* View the output below the Python code block\n",
    "<br>"
   ]
  },
  {
   "cell_type": "code",
   "execution_count": null,
   "metadata": {},
   "outputs": [],
   "source": [
    "# Example Solution\n",
    "print(\"Hello World\")\n"
   ]
  },
  {
   "cell_type": "markdown",
   "metadata": {},
   "source": [
    "## 1. Print the message \"Hello World\" to the terminal, one letter at a time\n"
   ]
  },
  {
   "cell_type": "markdown",
   "metadata": {},
   "source": [
    "##### Problem 1 Solution Steps:\n",
    "*\n",
    "*\n",
    "*"
   ]
  },
  {
   "cell_type": "code",
   "execution_count": null,
   "metadata": {},
   "outputs": [],
   "source": [
    "# Problem 1 Solution"
   ]
  },
  {
   "cell_type": "markdown",
   "metadata": {},
   "source": [
    "## 2. Create a new **list** variable called `desktop_items`.\n",
    "✅ Provide **three** initial string values in the list of items around you in your workspace<br><br>\n",
    "    💡 **Example: \"keyboard\", \"coffee mug\", \"lamp\"** 💡 <br><br>\n",
    "✅ Print the value at the index 1 of your list"
   ]
  },
  {
   "cell_type": "markdown",
   "metadata": {},
   "source": [
    "##### Problem 2 Solution Steps:\n",
    "*\n",
    "*\n",
    "*"
   ]
  },
  {
   "cell_type": "code",
   "execution_count": null,
   "metadata": {},
   "outputs": [],
   "source": [
    "# Problem 2 Solution"
   ]
  },
  {
   "cell_type": "markdown",
   "metadata": {},
   "source": [
    "## 3. Using the SAME variable from Question #2: \n",
    "✅ Add the string \"Rubber Duck\" to the end of your list<br>\n",
    "✅ Then, utilizing a For loop, print each item in the list to the terminal, one at a time"
   ]
  },
  {
   "cell_type": "markdown",
   "metadata": {},
   "source": [
    "##### Problem 3 Solution Steps\n",
    "*\n",
    "*\n",
    "*"
   ]
  },
  {
   "cell_type": "code",
   "execution_count": null,
   "metadata": {},
   "outputs": [],
   "source": [
    "# Problem 3 Solution"
   ]
  },
  {
   "cell_type": "markdown",
   "metadata": {},
   "source": [
    "## 4. Create a new variable called `my_dictionary`, and set it's value as an empty Dictionary\n",
    "✅ Create a new key on `my_dictionary` called `first_name`, with a string value of your first name<br>\n",
    "✅ Print the phrase \"Hello from `<YOURNAMEHERE>`!\", substituting `<YOURNAMEHERE>` with the value you just created for `first_name`<br>\n",
    "✅ Create a new key on my_dictionary called `favorite_fruit`, with a string value of your favorite fruit<br>\n",
    "✅ Print the phrase \"My favorite fruit is `<FAVORITEFRUIT>`!\", substituting `<FAVORITEFRUIT>` with the value you just created for `favorite_fruit`"
   ]
  },
  {
   "cell_type": "markdown",
   "metadata": {},
   "source": [
    "##### Problem 4 Solution Steps:\n",
    "*\n",
    "*\n",
    "*"
   ]
  },
  {
   "cell_type": "code",
   "execution_count": null,
   "metadata": {},
   "outputs": [],
   "source": [
    "# Problem 4 Solution"
   ]
  },
  {
   "cell_type": "markdown",
   "metadata": {},
   "source": [
    "## 5. Using the SAME variable as Question #4:\n",
    "✅ Create a new key on my_dictionary called `desktop_items`, and assign it's value as the list variable created in Question #2<br>\n",
    "✅ Then, remove & return the item at Index 2, and print it to the terminal<br><br>\n",
    "💡 Use the `my_dictionary` variable for this, **NOT** the list variable `desktop_items` created in Question #2! 💡 \n"
   ]
  },
  {
   "cell_type": "markdown",
   "metadata": {},
   "source": [
    "##### Problem 5 Solution Steps:\n",
    "*\n",
    "*\n",
    "*"
   ]
  },
  {
   "cell_type": "code",
   "execution_count": null,
   "metadata": {},
   "outputs": [],
   "source": [
    "# Problem 5 Solution"
   ]
  },
  {
   "cell_type": "markdown",
   "metadata": {},
   "source": [
    "## 6. Using the SAME variable as Question #4:\n",
    "✅ Take input from the user, asking for their favorite fruit<br>\n",
    "✅ If that fruit is the same as the value of `favorite_fruit`, print the phrase \"Excellent taste, I love `<FAVORITEFRUIT>`!\" to the console, substituting `<FAVORITEFRUIT>` with the value the user inputted<br>\n",
    "✅ If that fruit is NOT the same as the value of `favorite_fruit`, update the value of `favorite_fruit` with that fruit!\n"
   ]
  },
  {
   "cell_type": "markdown",
   "metadata": {},
   "source": [
    "##### Problem 6 Solution Steps:\n",
    "*\n",
    "*\n",
    "*"
   ]
  },
  {
   "cell_type": "code",
   "execution_count": null,
   "metadata": {},
   "outputs": [],
   "source": [
    "# Problem 6 Solution"
   ]
  },
  {
   "cell_type": "markdown",
   "metadata": {},
   "source": [
    "## 7. Using the SAME variable as Question #4:\n",
    "✅ Create a new key on `my_dictionary` called `favorite_numbers`<br><br>\n",
    "💡 **This key will have the following list value: `[8, 13, 55, 2, 73, 88]`** 💡 <br><br>\n",
    "✅ Then, using a for loop, loop through this list of integers and print each one to the console\n"
   ]
  },
  {
   "cell_type": "markdown",
   "metadata": {},
   "source": [
    "##### Problem 7 Solution Steps:\n",
    "*\n",
    "*\n",
    "*"
   ]
  },
  {
   "cell_type": "code",
   "execution_count": null,
   "metadata": {},
   "outputs": [],
   "source": [
    "# Problem 7 Solution"
   ]
  }
 ],
 "metadata": {
  "kernelspec": {
   "display_name": "Python 3.10.5 64-bit",
   "language": "python",
   "name": "python3"
  },
  "language_info": {
   "codemirror_mode": {
    "name": "ipython",
    "version": 3
   },
   "file_extension": ".py",
   "mimetype": "text/x-python",
   "name": "python",
   "nbconvert_exporter": "python",
   "pygments_lexer": "ipython3",
   "version": "3.10.5"
  },
  "orig_nbformat": 4,
  "vscode": {
   "interpreter": {
    "hash": "991b4f12e3cd7e62d84ec965b56412c4354ac1fe6297d96f50a80e713193dd77"
   }
  }
 },
 "nbformat": 4,
 "nbformat_minor": 2
}
